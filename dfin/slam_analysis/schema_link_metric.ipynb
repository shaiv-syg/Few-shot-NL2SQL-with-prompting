{
 "cells": [
  {
   "cell_type": "markdown",
   "metadata": {},
   "source": [
    "# Schema Linking Accuracy Metric (SLAM):"
   ]
  },
  {
   "cell_type": "markdown",
   "metadata": {},
   "source": [
    "### Imports"
   ]
  },
  {
   "cell_type": "code",
   "execution_count": 6,
   "metadata": {
    "ExecuteTime": {
     "start_time": "2023-10-23T10:10:51.436416Z",
     "end_time": "2023-10-23T10:10:51.438792Z"
    }
   },
   "outputs": [],
   "source": [
    "import pandas as pd\n",
    "import ast\n",
    "import json"
   ]
  },
  {
   "cell_type": "markdown",
   "metadata": {},
   "source": [
    "## Creating DFs"
   ]
  },
  {
   "cell_type": "markdown",
   "metadata": {},
   "source": [
    "### Function to import JSON"
   ]
  },
  {
   "cell_type": "code",
   "execution_count": 38,
   "metadata": {
    "ExecuteTime": {
     "start_time": "2023-10-23T10:23:53.206179Z",
     "end_time": "2023-10-23T10:23:53.209632Z"
    }
   },
   "outputs": [],
   "source": [
    "def import_json_file(file_path):\n",
    "    # Load the JSON data from the file\n",
    "    with open(file_path, 'r') as json_file:\n",
    "        json_data = json.load(json_file)\n",
    "\n",
    "    # Create a DataFrame from the extracted data\n",
    "    df_dev_set = pd.DataFrame(json_data, columns=[\"question_id\", \"db_id\", \"tables\"])\n",
    "\n",
    "    #df_dev_set.head()\n",
    "    return df_dev_set"
   ]
  },
  {
   "cell_type": "markdown",
   "metadata": {},
   "source": [
    "### Function to import CSV"
   ]
  },
  {
   "cell_type": "code",
   "execution_count": 39,
   "metadata": {
    "ExecuteTime": {
     "start_time": "2023-10-23T10:23:53.642000Z",
     "end_time": "2023-10-23T10:23:53.644577Z"
    }
   },
   "outputs": [],
   "source": [
    "# Function to import a CSV file into a pandas DataFrame with the given schema\n",
    "def import_csv_file(file_path):\n",
    "    # Define a custom converter to parse the string representation of lists\n",
    "    def parse_list(x):\n",
    "        try:\n",
    "            return ast.literal_eval(x)\n",
    "        except (ValueError, SyntaxError):\n",
    "            return []\n",
    "\n",
    "    # Specify the column data types\n",
    "    dtype_dict = {\n",
    "        'question_id': int,\n",
    "        'predicted_tables': str,\n",
    "        'total_tables': int\n",
    "    }\n",
    "\n",
    "    # Specify the converters for list columns\n",
    "    converters = {\n",
    "        'predicted_tables': parse_list\n",
    "    }\n",
    "\n",
    "    # Read the CSV file into a DataFrame\n",
    "    df = pd.read_csv(file_path, dtype=dtype_dict, converters=converters)\n",
    "    return df"
   ]
  },
  {
   "cell_type": "markdown",
   "metadata": {},
   "source": [
    "### Function to compare tables from dev and gen"
   ]
  },
  {
   "cell_type": "code",
   "execution_count": 40,
   "metadata": {
    "ExecuteTime": {
     "start_time": "2023-10-23T10:23:54.041770Z",
     "end_time": "2023-10-23T10:23:54.044489Z"
    }
   },
   "outputs": [],
   "source": [
    "def compare_lists(ground_truth, predicted):\n",
    "\n",
    "    true_positives = len(set(ground_truth) & set(predicted))\n",
    "    false_positives = len(set(predicted) - set(ground_truth))\n",
    "    false_negatives = len(set(ground_truth) - set(predicted))\n",
    "    true_negatives = 0  # Not applicable for this scenario\n",
    "\n",
    "    return true_positives, true_negatives, false_positives, false_negatives\n",
    "\n"
   ]
  },
  {
   "cell_type": "markdown",
   "metadata": {},
   "source": [
    "### Processing"
   ]
  },
  {
   "cell_type": "code",
   "execution_count": 41,
   "outputs": [
    {
     "data": {
      "text/plain": "   question_id               db_id           tables\n0            0  california_schools           [frpm]\n1            1  california_schools           [frpm]\n2            2  california_schools  [frpm, schools]\n3            3  california_schools  [frpm, schools]\n4            4  california_schools  [frpm, schools]",
      "text/html": "<div>\n<style scoped>\n    .dataframe tbody tr th:only-of-type {\n        vertical-align: middle;\n    }\n\n    .dataframe tbody tr th {\n        vertical-align: top;\n    }\n\n    .dataframe thead th {\n        text-align: right;\n    }\n</style>\n<table border=\"1\" class=\"dataframe\">\n  <thead>\n    <tr style=\"text-align: right;\">\n      <th></th>\n      <th>question_id</th>\n      <th>db_id</th>\n      <th>tables</th>\n    </tr>\n  </thead>\n  <tbody>\n    <tr>\n      <th>0</th>\n      <td>0</td>\n      <td>california_schools</td>\n      <td>[frpm]</td>\n    </tr>\n    <tr>\n      <th>1</th>\n      <td>1</td>\n      <td>california_schools</td>\n      <td>[frpm]</td>\n    </tr>\n    <tr>\n      <th>2</th>\n      <td>2</td>\n      <td>california_schools</td>\n      <td>[frpm, schools]</td>\n    </tr>\n    <tr>\n      <th>3</th>\n      <td>3</td>\n      <td>california_schools</td>\n      <td>[frpm, schools]</td>\n    </tr>\n    <tr>\n      <th>4</th>\n      <td>4</td>\n      <td>california_schools</td>\n      <td>[frpm, schools]</td>\n    </tr>\n  </tbody>\n</table>\n</div>"
     },
     "execution_count": 41,
     "metadata": {},
     "output_type": "execute_result"
    }
   ],
   "source": [
    "df1 = import_json_file('dev/dev_subset.json')\n",
    "df1.head()"
   ],
   "metadata": {
    "collapsed": false,
    "ExecuteTime": {
     "start_time": "2023-10-23T10:23:54.487630Z",
     "end_time": "2023-10-23T10:23:54.497337Z"
    }
   }
  },
  {
   "cell_type": "code",
   "execution_count": 42,
   "outputs": [
    {
     "name": "stderr",
     "output_type": "stream",
     "text": [
      "/var/folders/cp/g5zclxh15qxcyn95c4jr6fd80000gn/T/ipykernel_95571/3972835819.py:23: ParserWarning: Both a converter and dtype were specified for column predicted_tables - only the converter will be used.\n",
      "  df = pd.read_csv(file_path, dtype=dtype_dict, converters=converters)\n"
     ]
    },
    {
     "data": {
      "text/plain": "   question_id               db_id          gold_tables  \\\n0            0  california_schools             ['frpm']   \n1            1  california_schools             ['frpm']   \n2            2  california_schools  ['frpm', 'schools']   \n3            3  california_schools  ['frpm', 'schools']   \n4            4  california_schools  ['frpm', 'schools']   \n\n             predicted_tables  total_tables  \n0             [frpm, schools]             3  \n1  [frpm, satscores, schools]             3  \n2  [frpm, satscores, schools]             3  \n3  [frpm, satscores, schools]             3  \n4             [frpm, schools]             3  ",
      "text/html": "<div>\n<style scoped>\n    .dataframe tbody tr th:only-of-type {\n        vertical-align: middle;\n    }\n\n    .dataframe tbody tr th {\n        vertical-align: top;\n    }\n\n    .dataframe thead th {\n        text-align: right;\n    }\n</style>\n<table border=\"1\" class=\"dataframe\">\n  <thead>\n    <tr style=\"text-align: right;\">\n      <th></th>\n      <th>question_id</th>\n      <th>db_id</th>\n      <th>gold_tables</th>\n      <th>predicted_tables</th>\n      <th>total_tables</th>\n    </tr>\n  </thead>\n  <tbody>\n    <tr>\n      <th>0</th>\n      <td>0</td>\n      <td>california_schools</td>\n      <td>['frpm']</td>\n      <td>[frpm, schools]</td>\n      <td>3</td>\n    </tr>\n    <tr>\n      <th>1</th>\n      <td>1</td>\n      <td>california_schools</td>\n      <td>['frpm']</td>\n      <td>[frpm, satscores, schools]</td>\n      <td>3</td>\n    </tr>\n    <tr>\n      <th>2</th>\n      <td>2</td>\n      <td>california_schools</td>\n      <td>['frpm', 'schools']</td>\n      <td>[frpm, satscores, schools]</td>\n      <td>3</td>\n    </tr>\n    <tr>\n      <th>3</th>\n      <td>3</td>\n      <td>california_schools</td>\n      <td>['frpm', 'schools']</td>\n      <td>[frpm, satscores, schools]</td>\n      <td>3</td>\n    </tr>\n    <tr>\n      <th>4</th>\n      <td>4</td>\n      <td>california_schools</td>\n      <td>['frpm', 'schools']</td>\n      <td>[frpm, schools]</td>\n      <td>3</td>\n    </tr>\n  </tbody>\n</table>\n</div>"
     },
     "execution_count": 42,
     "metadata": {},
     "output_type": "execute_result"
    }
   ],
   "source": [
    "df2 = import_csv_file('linked_tables_json_conservative.csv')\n",
    "df2.head()"
   ],
   "metadata": {
    "collapsed": false,
    "ExecuteTime": {
     "start_time": "2023-10-23T10:23:54.825370Z",
     "end_time": "2023-10-23T10:23:54.834390Z"
    }
   }
  },
  {
   "cell_type": "code",
   "execution_count": 43,
   "outputs": [
    {
     "data": {
      "text/plain": "Empty DataFrame\nColumns: [question_id, db_id, tables, predicted_tables, total_tables, tp, tn, fp, fn, precision, recall, f1_score]\nIndex: []",
      "text/html": "<div>\n<style scoped>\n    .dataframe tbody tr th:only-of-type {\n        vertical-align: middle;\n    }\n\n    .dataframe tbody tr th {\n        vertical-align: top;\n    }\n\n    .dataframe thead th {\n        text-align: right;\n    }\n</style>\n<table border=\"1\" class=\"dataframe\">\n  <thead>\n    <tr style=\"text-align: right;\">\n      <th></th>\n      <th>question_id</th>\n      <th>db_id</th>\n      <th>tables</th>\n      <th>predicted_tables</th>\n      <th>total_tables</th>\n      <th>tp</th>\n      <th>tn</th>\n      <th>fp</th>\n      <th>fn</th>\n      <th>precision</th>\n      <th>recall</th>\n      <th>f1_score</th>\n    </tr>\n  </thead>\n  <tbody>\n  </tbody>\n</table>\n</div>"
     },
     "execution_count": 43,
     "metadata": {},
     "output_type": "execute_result"
    }
   ],
   "source": [
    "merged_df = df1.merge(df2, on='question_id', how='inner')\n",
    "merged_df.head()\n",
    "\n",
    "\n",
    "\n",
    "merged_df = merged_df.rename(columns={'db_id_x': 'db_id'})\n",
    "merged_df = merged_df.drop('db_id_y', axis=1)\n",
    "\n",
    "merged_df.head()\n",
    "#\n",
    "final_df = pd.DataFrame(columns=['question_id','db_id','tables','predicted_tables','total_tables','tp','tn','fp','fn','precision','recall','f1_score'])\n",
    "final_df.head()"
   ],
   "metadata": {
    "collapsed": false,
    "ExecuteTime": {
     "start_time": "2023-10-23T10:23:55.414140Z",
     "end_time": "2023-10-23T10:23:55.423978Z"
    }
   }
  },
  {
   "cell_type": "code",
   "execution_count": 44,
   "outputs": [
    {
     "data": {
      "text/plain": "  question_id               db_id           tables  \\\n0           0  california_schools           [frpm]   \n1           1  california_schools           [frpm]   \n2           2  california_schools  [frpm, schools]   \n3           3  california_schools  [frpm, schools]   \n4           4  california_schools  [frpm, schools]   \n\n             predicted_tables total_tables tp tn fp fn  precision  recall  \\\n0             [frpm, schools]            3  1  0  1  0   0.500000     1.0   \n1  [frpm, satscores, schools]            3  1  0  2  0   0.333333     1.0   \n2  [frpm, satscores, schools]            3  2  0  1  0   0.666667     1.0   \n3  [frpm, satscores, schools]            3  2  0  1  0   0.666667     1.0   \n4             [frpm, schools]            3  2  0  0  0   1.000000     1.0   \n\n   f1_score  \n0  0.666667  \n1  0.500000  \n2  0.800000  \n3  0.800000  \n4  1.000000  ",
      "text/html": "<div>\n<style scoped>\n    .dataframe tbody tr th:only-of-type {\n        vertical-align: middle;\n    }\n\n    .dataframe tbody tr th {\n        vertical-align: top;\n    }\n\n    .dataframe thead th {\n        text-align: right;\n    }\n</style>\n<table border=\"1\" class=\"dataframe\">\n  <thead>\n    <tr style=\"text-align: right;\">\n      <th></th>\n      <th>question_id</th>\n      <th>db_id</th>\n      <th>tables</th>\n      <th>predicted_tables</th>\n      <th>total_tables</th>\n      <th>tp</th>\n      <th>tn</th>\n      <th>fp</th>\n      <th>fn</th>\n      <th>precision</th>\n      <th>recall</th>\n      <th>f1_score</th>\n    </tr>\n  </thead>\n  <tbody>\n    <tr>\n      <th>0</th>\n      <td>0</td>\n      <td>california_schools</td>\n      <td>[frpm]</td>\n      <td>[frpm, schools]</td>\n      <td>3</td>\n      <td>1</td>\n      <td>0</td>\n      <td>1</td>\n      <td>0</td>\n      <td>0.500000</td>\n      <td>1.0</td>\n      <td>0.666667</td>\n    </tr>\n    <tr>\n      <th>1</th>\n      <td>1</td>\n      <td>california_schools</td>\n      <td>[frpm]</td>\n      <td>[frpm, satscores, schools]</td>\n      <td>3</td>\n      <td>1</td>\n      <td>0</td>\n      <td>2</td>\n      <td>0</td>\n      <td>0.333333</td>\n      <td>1.0</td>\n      <td>0.500000</td>\n    </tr>\n    <tr>\n      <th>2</th>\n      <td>2</td>\n      <td>california_schools</td>\n      <td>[frpm, schools]</td>\n      <td>[frpm, satscores, schools]</td>\n      <td>3</td>\n      <td>2</td>\n      <td>0</td>\n      <td>1</td>\n      <td>0</td>\n      <td>0.666667</td>\n      <td>1.0</td>\n      <td>0.800000</td>\n    </tr>\n    <tr>\n      <th>3</th>\n      <td>3</td>\n      <td>california_schools</td>\n      <td>[frpm, schools]</td>\n      <td>[frpm, satscores, schools]</td>\n      <td>3</td>\n      <td>2</td>\n      <td>0</td>\n      <td>1</td>\n      <td>0</td>\n      <td>0.666667</td>\n      <td>1.0</td>\n      <td>0.800000</td>\n    </tr>\n    <tr>\n      <th>4</th>\n      <td>4</td>\n      <td>california_schools</td>\n      <td>[frpm, schools]</td>\n      <td>[frpm, schools]</td>\n      <td>3</td>\n      <td>2</td>\n      <td>0</td>\n      <td>0</td>\n      <td>0</td>\n      <td>1.000000</td>\n      <td>1.0</td>\n      <td>1.000000</td>\n    </tr>\n  </tbody>\n</table>\n</div>"
     },
     "execution_count": 44,
     "metadata": {},
     "output_type": "execute_result"
    }
   ],
   "source": [
    "\n",
    "for index, row in enumerate(merged_df.iterrows()):\n",
    "    row = row[1]\n",
    "    #row2 = row2[1]\n",
    "    tp, tn, fp, fn = compare_lists(row['tables'], row['predicted_tables'])\n",
    "\n",
    "\n",
    "    # Calculate precision, recall, and F1 score for each row\n",
    "    precision = tp / (tp + fp)\n",
    "    recall = tp / (tp + fn)\n",
    "    if precision == 0 and recall == 0:\n",
    "        f1_score = 0.0\n",
    "    else:\n",
    "        f1_score = 2 * (precision * recall) / (precision + recall)\n",
    "\n",
    "    #print('question_id: ',row['question_id'],'|| predicted_tables:',row['predicted_tables'],'|| true_tables:',row['tables'])\n",
    "    #print(\"True Positives:\", tp)\n",
    "    #print(\"True Negatives:\", tn)\n",
    "    #print(\"False Positives:\", fp)\n",
    "    #print(\"False Negatives:\", fn)\n",
    "    #print(\"Precision:\", precision)\n",
    "    #print(\"Recall:\", recall)\n",
    "    #print(\"F1-Score:\", f1_score)\n",
    "    #print('-----------------------------------')\n",
    "\n",
    "    metrics_dict = {\n",
    "        'question_id': row['question_id'],\n",
    "        'db_id': row['db_id'],\n",
    "        'tables': row['tables'],\n",
    "        'predicted_tables': row['predicted_tables'],\n",
    "        'total_tables': row['total_tables'],\n",
    "        'tp': tp,\n",
    "        'tn': tn,\n",
    "        'fp': fp,\n",
    "        'fn': fn,\n",
    "        'precision': precision,\n",
    "        'recall': recall,\n",
    "        'f1_score': f1_score\n",
    "    }\n",
    "\n",
    "    final_df = pd.concat([final_df, pd.DataFrame([metrics_dict])], ignore_index=True)\n",
    "\n",
    "final_df.to_csv('metrics_result_conservative.csv', index=False)\n",
    "final_df.head()"
   ],
   "metadata": {
    "collapsed": false,
    "ExecuteTime": {
     "start_time": "2023-10-23T10:23:56.239771Z",
     "end_time": "2023-10-23T10:23:56.281546Z"
    }
   }
  },
  {
   "cell_type": "code",
   "execution_count": 45,
   "outputs": [
    {
     "data": {
      "text/plain": "    question_id                    db_id                  tables  \\\n0             0       california_schools                  [frpm]   \n1             1       california_schools                  [frpm]   \n2             2       california_schools         [frpm, schools]   \n3             3       california_schools         [frpm, schools]   \n4             4       california_schools         [frpm, schools]   \n..          ...                      ...                     ...   \n105        1475  debit_card_specializing  [customers, yearmonth]   \n106        1476  debit_card_specializing  [customers, yearmonth]   \n107        1477  debit_card_specializing  [customers, yearmonth]   \n108        1478  debit_card_specializing  [customers, yearmonth]   \n109        1479  debit_card_specializing  [customers, yearmonth]   \n\n                                      predicted_tables total_tables tp tn fp  \\\n0                                      [frpm, schools]            3  1  0  1   \n1                           [frpm, satscores, schools]            3  1  0  2   \n2                           [frpm, satscores, schools]            3  2  0  1   \n3                           [frpm, satscores, schools]            3  2  0  1   \n4                                      [frpm, schools]            3  2  0  0   \n..                                                 ...          ... .. .. ..   \n105            [customers, transactions_1k, yearmonth]            5  2  0  1   \n106            [customers, transactions_1k, yearmonth]            5  2  0  1   \n107  [customers, gasstations, products, transaction...            5  2  0  3   \n108  [customers, gasstations, transactions_1k, year...            5  2  0  2   \n109            [customers, transactions_1k, yearmonth]            5  2  0  1   \n\n    fn  precision  recall  f1_score  \n0    0   0.500000     1.0  0.666667  \n1    0   0.333333     1.0  0.500000  \n2    0   0.666667     1.0  0.800000  \n3    0   0.666667     1.0  0.800000  \n4    0   1.000000     1.0  1.000000  \n..  ..        ...     ...       ...  \n105  0   0.666667     1.0  0.800000  \n106  0   0.666667     1.0  0.800000  \n107  0   0.400000     1.0  0.571429  \n108  0   0.500000     1.0  0.666667  \n109  0   0.666667     1.0  0.800000  \n\n[110 rows x 12 columns]",
      "text/html": "<div>\n<style scoped>\n    .dataframe tbody tr th:only-of-type {\n        vertical-align: middle;\n    }\n\n    .dataframe tbody tr th {\n        vertical-align: top;\n    }\n\n    .dataframe thead th {\n        text-align: right;\n    }\n</style>\n<table border=\"1\" class=\"dataframe\">\n  <thead>\n    <tr style=\"text-align: right;\">\n      <th></th>\n      <th>question_id</th>\n      <th>db_id</th>\n      <th>tables</th>\n      <th>predicted_tables</th>\n      <th>total_tables</th>\n      <th>tp</th>\n      <th>tn</th>\n      <th>fp</th>\n      <th>fn</th>\n      <th>precision</th>\n      <th>recall</th>\n      <th>f1_score</th>\n    </tr>\n  </thead>\n  <tbody>\n    <tr>\n      <th>0</th>\n      <td>0</td>\n      <td>california_schools</td>\n      <td>[frpm]</td>\n      <td>[frpm, schools]</td>\n      <td>3</td>\n      <td>1</td>\n      <td>0</td>\n      <td>1</td>\n      <td>0</td>\n      <td>0.500000</td>\n      <td>1.0</td>\n      <td>0.666667</td>\n    </tr>\n    <tr>\n      <th>1</th>\n      <td>1</td>\n      <td>california_schools</td>\n      <td>[frpm]</td>\n      <td>[frpm, satscores, schools]</td>\n      <td>3</td>\n      <td>1</td>\n      <td>0</td>\n      <td>2</td>\n      <td>0</td>\n      <td>0.333333</td>\n      <td>1.0</td>\n      <td>0.500000</td>\n    </tr>\n    <tr>\n      <th>2</th>\n      <td>2</td>\n      <td>california_schools</td>\n      <td>[frpm, schools]</td>\n      <td>[frpm, satscores, schools]</td>\n      <td>3</td>\n      <td>2</td>\n      <td>0</td>\n      <td>1</td>\n      <td>0</td>\n      <td>0.666667</td>\n      <td>1.0</td>\n      <td>0.800000</td>\n    </tr>\n    <tr>\n      <th>3</th>\n      <td>3</td>\n      <td>california_schools</td>\n      <td>[frpm, schools]</td>\n      <td>[frpm, satscores, schools]</td>\n      <td>3</td>\n      <td>2</td>\n      <td>0</td>\n      <td>1</td>\n      <td>0</td>\n      <td>0.666667</td>\n      <td>1.0</td>\n      <td>0.800000</td>\n    </tr>\n    <tr>\n      <th>4</th>\n      <td>4</td>\n      <td>california_schools</td>\n      <td>[frpm, schools]</td>\n      <td>[frpm, schools]</td>\n      <td>3</td>\n      <td>2</td>\n      <td>0</td>\n      <td>0</td>\n      <td>0</td>\n      <td>1.000000</td>\n      <td>1.0</td>\n      <td>1.000000</td>\n    </tr>\n    <tr>\n      <th>...</th>\n      <td>...</td>\n      <td>...</td>\n      <td>...</td>\n      <td>...</td>\n      <td>...</td>\n      <td>...</td>\n      <td>...</td>\n      <td>...</td>\n      <td>...</td>\n      <td>...</td>\n      <td>...</td>\n      <td>...</td>\n    </tr>\n    <tr>\n      <th>105</th>\n      <td>1475</td>\n      <td>debit_card_specializing</td>\n      <td>[customers, yearmonth]</td>\n      <td>[customers, transactions_1k, yearmonth]</td>\n      <td>5</td>\n      <td>2</td>\n      <td>0</td>\n      <td>1</td>\n      <td>0</td>\n      <td>0.666667</td>\n      <td>1.0</td>\n      <td>0.800000</td>\n    </tr>\n    <tr>\n      <th>106</th>\n      <td>1476</td>\n      <td>debit_card_specializing</td>\n      <td>[customers, yearmonth]</td>\n      <td>[customers, transactions_1k, yearmonth]</td>\n      <td>5</td>\n      <td>2</td>\n      <td>0</td>\n      <td>1</td>\n      <td>0</td>\n      <td>0.666667</td>\n      <td>1.0</td>\n      <td>0.800000</td>\n    </tr>\n    <tr>\n      <th>107</th>\n      <td>1477</td>\n      <td>debit_card_specializing</td>\n      <td>[customers, yearmonth]</td>\n      <td>[customers, gasstations, products, transaction...</td>\n      <td>5</td>\n      <td>2</td>\n      <td>0</td>\n      <td>3</td>\n      <td>0</td>\n      <td>0.400000</td>\n      <td>1.0</td>\n      <td>0.571429</td>\n    </tr>\n    <tr>\n      <th>108</th>\n      <td>1478</td>\n      <td>debit_card_specializing</td>\n      <td>[customers, yearmonth]</td>\n      <td>[customers, gasstations, transactions_1k, year...</td>\n      <td>5</td>\n      <td>2</td>\n      <td>0</td>\n      <td>2</td>\n      <td>0</td>\n      <td>0.500000</td>\n      <td>1.0</td>\n      <td>0.666667</td>\n    </tr>\n    <tr>\n      <th>109</th>\n      <td>1479</td>\n      <td>debit_card_specializing</td>\n      <td>[customers, yearmonth]</td>\n      <td>[customers, transactions_1k, yearmonth]</td>\n      <td>5</td>\n      <td>2</td>\n      <td>0</td>\n      <td>1</td>\n      <td>0</td>\n      <td>0.666667</td>\n      <td>1.0</td>\n      <td>0.800000</td>\n    </tr>\n  </tbody>\n</table>\n<p>110 rows × 12 columns</p>\n</div>"
     },
     "execution_count": 45,
     "metadata": {},
     "output_type": "execute_result"
    }
   ],
   "source": [
    "final_df"
   ],
   "metadata": {
    "collapsed": false,
    "ExecuteTime": {
     "start_time": "2023-10-23T10:23:58.914030Z",
     "end_time": "2023-10-23T10:23:58.918177Z"
    }
   }
  },
  {
   "cell_type": "code",
   "execution_count": 46,
   "outputs": [
    {
     "name": "stdout",
     "output_type": "stream",
     "text": [
      "Overall Precision: 0.56\n",
      "Overall Recall: 0.98\n",
      "Overall F1 Score: 0.71\n"
     ]
    }
   ],
   "source": [
    "total_tp = final_df['tp'].sum()\n",
    "total_tn = final_df['tn'].sum()\n",
    "total_fp = final_df['fp'].sum()\n",
    "total_fn = final_df['fn'].sum()\n",
    "\n",
    "overall_precision = total_tp / (total_tp + total_fp) if (total_tp + total_fp) != 0 else 0\n",
    "overall_recall = total_tp / (total_tp + total_fn) if (total_tp + total_fn) != 0 else 0\n",
    "overall_f1_score = 2 * (overall_precision * overall_recall) / (overall_precision + overall_recall) if (overall_precision + overall_recall) != 0 else 0\n",
    "\n",
    "\n",
    "print(f'Overall Precision: {overall_precision:.2f}')\n",
    "print(f'Overall Recall: {overall_recall:.2f}')\n",
    "print(f'Overall F1 Score: {overall_f1_score:.2f}')\n",
    "\n",
    "\n"
   ],
   "metadata": {
    "collapsed": false,
    "ExecuteTime": {
     "start_time": "2023-10-23T10:23:59.617778Z",
     "end_time": "2023-10-23T10:23:59.619766Z"
    }
   }
  },
  {
   "cell_type": "code",
   "execution_count": null,
   "outputs": [],
   "source": [
    "from azure_openai import get_embedding"
   ],
   "metadata": {
    "collapsed": false,
    "pycharm": {
     "is_executing": true
    }
   }
  },
  {
   "cell_type": "code",
   "execution_count": null,
   "outputs": [],
   "source": [],
   "metadata": {
    "collapsed": false
   }
  }
 ],
 "metadata": {
  "kernelspec": {
   "display_name": "xcs224u_GPU",
   "language": "python",
   "name": "python3"
  },
  "language_info": {
   "codemirror_mode": {
    "name": "ipython",
    "version": 3
   },
   "file_extension": ".py",
   "mimetype": "text/x-python",
   "name": "python",
   "nbconvert_exporter": "python",
   "pygments_lexer": "ipython3",
   "version": "3.11.6"
  },
  "orig_nbformat": 4
 },
 "nbformat": 4,
 "nbformat_minor": 2
}
