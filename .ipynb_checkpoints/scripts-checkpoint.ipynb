{
 "cells": [
  {
   "cell_type": "code",
   "execution_count": null,
   "metadata": {
    "collapsed": true,
    "pycharm": {
     "is_executing": true
    }
   },
   "outputs": [],
   "source": [
    "import pandas as pd\n",
    "\n",
    "# Load the CSV file\n",
    "file_path = 'dev/table_descriptions.csv'\n",
    "df = pd.read_csv(file_path)\n",
    "\n",
    "# Check if 'embedding' column exists\n",
    "if 'embedding' in df.columns:\n",
    "    # Remove the 'embedding' column\n",
    "    df = df.drop('embedding', axis=1)\n",
    "\n",
    "    # Save the DataFrame back to CSV\n",
    "    df.to_csv(file_path, index=False)\n",
    "    print(\"Column 'embedding' has been removed and the file is saved.\")\n",
    "else:\n",
    "    print(\"Column 'embedding' does not exist in the file.\")\n"
   ]
  },
  {
   "cell_type": "code",
   "execution_count": null,
   "outputs": [],
   "source": [],
   "metadata": {
    "collapsed": false
   }
  }
 ],
 "metadata": {
  "kernelspec": {
   "display_name": "Python 3",
   "language": "python",
   "name": "python3"
  },
  "language_info": {
   "codemirror_mode": {
    "name": "ipython",
    "version": 2
   },
   "file_extension": ".py",
   "mimetype": "text/x-python",
   "name": "python",
   "nbconvert_exporter": "python",
   "pygments_lexer": "ipython2",
   "version": "2.7.6"
  }
 },
 "nbformat": 4,
 "nbformat_minor": 0
}
